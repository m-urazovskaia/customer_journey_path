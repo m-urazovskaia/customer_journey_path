{
 "cells": [
  {
   "cell_type": "code",
   "execution_count": 137,
   "metadata": {},
   "outputs": [],
   "source": [
    "import pandas as pd\n",
    "import numpy as np\n",
    "from datetime import datetime, timedelta\n",
    "%matplotlib inline\n",
    "import seaborn as sns\n",
    "import matplotlib.pyplot as plt"
   ]
  },
  {
   "cell_type": "markdown",
   "metadata": {},
   "source": [
    "Site structure has certan structure\n",
    "\n",
    "1 main page\n",
    "\n",
    "2 city page\n",
    "\n",
    "3 neighborhood page\n",
    "\n",
    "4 home page\n",
    "\n",
    "5 apartment page\n",
    "\n",
    "++ supplimentary pages as faq/about us/ etc\n",
    "\n",
    "We want to try estimate visitors path to registration and path that leads to drop-off"
   ]
  },
  {
   "cell_type": "markdown",
   "metadata": {},
   "source": [
    "### Read visitor actions from segment\n",
    "* hidden url"
   ]
  },
  {
   "cell_type": "code",
   "execution_count": 138,
   "metadata": {},
   "outputs": [
    {
     "data": {
      "text/plain": [
       "Index(['received_at', 'anonymous_id', 'action', 'action_to', 'event',\n",
       "       'event_text', 'features', 'field_name', 'field_value',\n",
       "       'context_page_title', 'context_page_url', 'event_type'],\n",
       "      dtype='object')"
      ]
     },
     "metadata": {},
     "output_type": "display_data"
    },
    {
     "data": {
      "text/html": [
       "<div>\n",
       "<style scoped>\n",
       "    .dataframe tbody tr th:only-of-type {\n",
       "        vertical-align: middle;\n",
       "    }\n",
       "\n",
       "    .dataframe tbody tr th {\n",
       "        vertical-align: top;\n",
       "    }\n",
       "\n",
       "    .dataframe thead th {\n",
       "        text-align: right;\n",
       "    }\n",
       "</style>\n",
       "<table border=\"1\" class=\"dataframe\">\n",
       "  <thead>\n",
       "    <tr style=\"text-align: right;\">\n",
       "      <th></th>\n",
       "      <th>received_at</th>\n",
       "      <th>anonymous_id</th>\n",
       "      <th>action</th>\n",
       "      <th>action_to</th>\n",
       "      <th>event</th>\n",
       "      <th>event_text</th>\n",
       "      <th>features</th>\n",
       "      <th>field_name</th>\n",
       "      <th>field_value</th>\n",
       "      <th>event_type</th>\n",
       "    </tr>\n",
       "  </thead>\n",
       "  <tbody>\n",
       "    <tr>\n",
       "      <th>110633</th>\n",
       "      <td>2021-08-12 23:21:00</td>\n",
       "      <td>4005d59f-7c5d-44ac-a9e0-0afe1bee51fe</td>\n",
       "      <td>-</td>\n",
       "      <td>-</td>\n",
       "      <td>-</td>\n",
       "      <td>-</td>\n",
       "      <td>-</td>\n",
       "      <td>-</td>\n",
       "      <td>-</td>\n",
       "      <td>page</td>\n",
       "    </tr>\n",
       "    <tr>\n",
       "      <th>8001</th>\n",
       "      <td>2021-10-12 00:26:00</td>\n",
       "      <td>04bc24b5-8f78-46dd-a280-2b1e5081562f</td>\n",
       "      <td>-</td>\n",
       "      <td>-</td>\n",
       "      <td>-</td>\n",
       "      <td>-</td>\n",
       "      <td>-</td>\n",
       "      <td>-</td>\n",
       "      <td>-</td>\n",
       "      <td>page</td>\n",
       "    </tr>\n",
       "    <tr>\n",
       "      <th>8463</th>\n",
       "      <td>2021-09-30 21:28:00</td>\n",
       "      <td>051d92ad-624b-42c0-8ebc-3058d26666bf</td>\n",
       "      <td>-</td>\n",
       "      <td>-</td>\n",
       "      <td>-</td>\n",
       "      <td>-</td>\n",
       "      <td>-</td>\n",
       "      <td>-</td>\n",
       "      <td>-</td>\n",
       "      <td>page</td>\n",
       "    </tr>\n",
       "  </tbody>\n",
       "</table>\n",
       "</div>"
      ],
      "text/plain": [
       "               received_at                          anonymous_id action  \\\n",
       "110633 2021-08-12 23:21:00  4005d59f-7c5d-44ac-a9e0-0afe1bee51fe      -   \n",
       "8001   2021-10-12 00:26:00  04bc24b5-8f78-46dd-a280-2b1e5081562f      -   \n",
       "8463   2021-09-30 21:28:00  051d92ad-624b-42c0-8ebc-3058d26666bf      -   \n",
       "\n",
       "       action_to event event_text features field_name field_value event_type  \n",
       "110633         -     -          -        -          -           -       page  \n",
       "8001           -     -          -        -          -           -       page  \n",
       "8463           -     -          -        -          -           -       page  "
      ]
     },
     "execution_count": 138,
     "metadata": {},
     "output_type": "execute_result"
    }
   ],
   "source": [
    "df = pd.read_csv(hidden_url_1)\n",
    "df['received_at'] = pd.to_datetime(df.received_at)\n",
    "df['received_at'] = df['received_at'].dt.tz_localize(None)\n",
    "display(df.columns)\n",
    "df.sample(3)[['received_at', 'anonymous_id', 'action', 'action_to', 'event',\n",
    "       'event_text', 'features', 'field_name', 'field_value', 'event_type']]"
   ]
  },
  {
   "cell_type": "markdown",
   "metadata": {},
   "source": [
    "Read page mapping. Particular url -> page type \n",
    "* hidden url"
   ]
  },
  {
   "cell_type": "code",
   "execution_count": 139,
   "metadata": {},
   "outputs": [
    {
     "data": {
      "text/html": [
       "<div>\n",
       "<style scoped>\n",
       "    .dataframe tbody tr th:only-of-type {\n",
       "        vertical-align: middle;\n",
       "    }\n",
       "\n",
       "    .dataframe tbody tr th {\n",
       "        vertical-align: top;\n",
       "    }\n",
       "\n",
       "    .dataframe thead th {\n",
       "        text-align: right;\n",
       "    }\n",
       "</style>\n",
       "<table border=\"1\" class=\"dataframe\">\n",
       "  <thead>\n",
       "    <tr style=\"text-align: right;\">\n",
       "      <th></th>\n",
       "      <th>slug</th>\n",
       "      <th>page_type</th>\n",
       "    </tr>\n",
       "  </thead>\n",
       "  <tbody>\n",
       "    <tr>\n",
       "      <th>1381</th>\n",
       "      <td>1667</td>\n",
       "      <td>room</td>\n",
       "    </tr>\n",
       "    <tr>\n",
       "      <th>2812</th>\n",
       "      <td>1876</td>\n",
       "      <td>room</td>\n",
       "    </tr>\n",
       "    <tr>\n",
       "      <th>2728</th>\n",
       "      <td>1942</td>\n",
       "      <td>room</td>\n",
       "    </tr>\n",
       "    <tr>\n",
       "      <th>970</th>\n",
       "      <td>220</td>\n",
       "      <td>room</td>\n",
       "    </tr>\n",
       "    <tr>\n",
       "      <th>897</th>\n",
       "      <td>2029</td>\n",
       "      <td>room</td>\n",
       "    </tr>\n",
       "  </tbody>\n",
       "</table>\n",
       "</div>"
      ],
      "text/plain": [
       "      slug page_type\n",
       "1381  1667      room\n",
       "2812  1876      room\n",
       "2728  1942      room\n",
       "970    220      room\n",
       "897   2029      room"
      ]
     },
     "execution_count": 139,
     "metadata": {},
     "output_type": "execute_result"
    }
   ],
   "source": [
    "page_types_df = pd.read_csv(hidden_url_2)\n",
    "page_types_df.sample(5)"
   ]
  },
  {
   "cell_type": "markdown",
   "metadata": {},
   "source": [
    "We can define visitor registration event as visiting page journey (visitor redirected there).\n"
   ]
  },
  {
   "cell_type": "code",
   "execution_count": 140,
   "metadata": {},
   "outputs": [],
   "source": [
    "users_sign_up = df[df['context_page_url'].str.contains('/journey')][['received_at', 'anonymous_id']]\n",
    "users_sign_up.rename(columns={'received_at':'time_sign_up'}, inplace=True)\n",
    "users_sign_up = users_sign_up.sort_values('time_sign_up').drop_duplicates('anonymous_id')"
   ]
  },
  {
   "cell_type": "markdown",
   "metadata": {},
   "source": [
    "Also important define drop-off event, as negative scenario.\n",
    "\n",
    "Here we'll take just last visited page + 1 min."
   ]
  },
  {
   "cell_type": "code",
   "execution_count": 141,
   "metadata": {},
   "outputs": [],
   "source": [
    "users_drop_off = df.sort_values('received_at', ascending=False).drop_duplicates('anonymous_id')\n",
    "users_drop_off['received_at'] = users_drop_off['received_at'] + timedelta(seconds=60)\n",
    "users_drop_off['event_type'] = 'drop_off'"
   ]
  },
  {
   "cell_type": "code",
   "execution_count": 142,
   "metadata": {},
   "outputs": [
    {
     "data": {
      "text/plain": [
       "((438923, 12), (10161, 2), (53673, 12))"
      ]
     },
     "execution_count": 142,
     "metadata": {},
     "output_type": "execute_result"
    }
   ],
   "source": [
    "df.shape, users_sign_up.shape, users_drop_off.shape"
   ]
  },
  {
   "cell_type": "markdown",
   "metadata": {},
   "source": [
    "We may have more granular event definition, not just city-home, but particular homes and cities.\n",
    "\n",
    "Derive from URL"
   ]
  },
  {
   "cell_type": "code",
   "execution_count": 161,
   "metadata": {},
   "outputs": [],
   "source": [
    "df['event_type'] = df['context_page_url'].apply(lambda x: x.split('/')[-1].split('?')[0])"
   ]
  },
  {
   "cell_type": "markdown",
   "metadata": {},
   "source": [
    "drop-off is extra action so UNION"
   ]
  },
  {
   "cell_type": "code",
   "execution_count": 144,
   "metadata": {},
   "outputs": [],
   "source": [
    "df = pd.concat([df, users_drop_off])"
   ]
  },
  {
   "cell_type": "markdown",
   "metadata": {},
   "source": [
    "Registration in extra column so JOIN"
   ]
  },
  {
   "cell_type": "code",
   "execution_count": 145,
   "metadata": {},
   "outputs": [],
   "source": [
    "df = df.merge(users_sign_up, how='left', on='anonymous_id')\n",
    "df['is_lead'] = df.time_sign_up.notna()"
   ]
  },
  {
   "cell_type": "code",
   "execution_count": 146,
   "metadata": {},
   "outputs": [
    {
     "data": {
      "text/plain": [
       "(492596, 14)"
      ]
     },
     "execution_count": 146,
     "metadata": {},
     "output_type": "execute_result"
    }
   ],
   "source": [
    "df.shape"
   ]
  },
  {
   "cell_type": "markdown",
   "metadata": {},
   "source": [
    "Now we are interested only in visitors path before registration. We need to filter out events that happen after registration"
   ]
  },
  {
   "cell_type": "code",
   "execution_count": 147,
   "metadata": {},
   "outputs": [],
   "source": [
    "df = df[(df['received_at'] <= df['time_sign_up'])|(df['time_sign_up'].isna())]"
   ]
  },
  {
   "cell_type": "code",
   "execution_count": 148,
   "metadata": {},
   "outputs": [],
   "source": [
    "df = df.merge(page_types_df, how='left', left_on='event_type', right_on='slug')\n",
    "df.loc[df['page_type'].isna(), 'page_type'] = df.loc[df['page_type'].isna(), 'event_type']"
   ]
  },
  {
   "cell_type": "markdown",
   "metadata": {},
   "source": [
    "now we have 2 columns of interest event_type and page_type"
   ]
  },
  {
   "cell_type": "markdown",
   "metadata": {},
   "source": [
    "How many pages views visitor.\n",
    "\n",
    "To remember that we added drop-off as event, so -1 to all counts"
   ]
  },
  {
   "cell_type": "code",
   "execution_count": 149,
   "metadata": {},
   "outputs": [
    {
     "data": {
      "text/plain": [
       "1    15055\n",
       "2     9807\n",
       "3     5670\n",
       "4     4533\n",
       "5     2972\n",
       "6     2424\n",
       "7     1723\n",
       "8     1424\n",
       "0     1415\n",
       "9     1132\n",
       "Name: anonymous_id, dtype: int64"
      ]
     },
     "execution_count": 149,
     "metadata": {},
     "output_type": "execute_result"
    }
   ],
   "source": [
    "pages_per_visitor = df.anonymous_id.value_counts().value_counts()\n",
    "pages_per_visitor.index = pages_per_visitor.index -1 \n",
    "pages_per_visitor.head(10)"
   ]
  },
  {
   "cell_type": "code",
   "execution_count": 150,
   "metadata": {},
   "outputs": [
    {
     "data": {
      "text/plain": [
       "<AxesSubplot:>"
      ]
     },
     "execution_count": 150,
     "metadata": {},
     "output_type": "execute_result"
    },
    {
     "data": {
      "image/png": "[encoded data removed]",
      "text/plain": [
       "<Figure size 432x288 with 1 Axes>"
      ]
     },
     "metadata": {
      "needs_background": "light"
     },
     "output_type": "display_data"
    }
   ],
   "source": [
    "sns.barplot(x=pages_per_visitor.head(20).index, y=pages_per_visitor.head(20).values)"
   ]
  },
  {
   "cell_type": "code",
   "execution_count": 151,
   "metadata": {},
   "outputs": [],
   "source": [
    "df.sort_values('received_at', inplace=True)"
   ]
  },
  {
   "cell_type": "code",
   "execution_count": 167,
   "metadata": {},
   "outputs": [
    {
     "data": {
      "image/png": "[encoded data removed]",
      "text/plain": [
       "<Figure size 432x288 with 1 Axes>"
      ]
     },
     "metadata": {
      "needs_background": "light"
     },
     "output_type": "display_data"
    }
   ],
   "source": [
    "sns.barplot(x=df.event_type.value_counts().head(20).index, y=df.event_type.value_counts().head(20).values)\n",
    "plt.xticks(rotation=90);"
   ]
  },
  {
   "cell_type": "code",
   "execution_count": 168,
   "metadata": {},
   "outputs": [
    {
     "data": {
      "image/png": "[encoded data removed]",
      "text/plain": [
       "<Figure size 432x288 with 1 Axes>"
      ]
     },
     "metadata": {
      "needs_background": "light"
     },
     "output_type": "display_data"
    }
   ],
   "source": [
    "sns.barplot(x=df.page_type.value_counts().head(20).index, y=df.page_type.value_counts().head(20).values)\n",
    "plt.xticks(rotation=90);"
   ]
  },
  {
   "cell_type": "code",
   "execution_count": 169,
   "metadata": {},
   "outputs": [],
   "source": [
    "df['event_path'] = df.groupby('anonymous_id')['event_type'].transform('->'.join)"
   ]
  },
  {
   "cell_type": "code",
   "execution_count": 170,
   "metadata": {},
   "outputs": [],
   "source": [
    "df['pages_path'] = df.groupby('anonymous_id')['page_type'].transform('->'.join)"
   ]
  },
  {
   "cell_type": "markdown",
   "metadata": {},
   "source": [
    "Now row in our dataFrame is event, let's swith to visitor"
   ]
  },
  {
   "cell_type": "code",
   "execution_count": 175,
   "metadata": {},
   "outputs": [
    {
     "data": {
      "text/plain": [
       "False    43512\n",
       "True     10161\n",
       "Name: is_lead, dtype: int64"
      ]
     },
     "execution_count": 175,
     "metadata": {},
     "output_type": "execute_result"
    }
   ],
   "source": [
    "user_df = df.drop_duplicates('anonymous_id')\n",
    "user_df.is_lead.value_counts()"
   ]
  },
  {
   "cell_type": "code",
   "execution_count": 176,
   "metadata": {},
   "outputs": [
    {
     "data": {
      "text/plain": [
       "False    0.810687\n",
       "True     0.189313\n",
       "Name: is_lead, dtype: float64"
      ]
     },
     "execution_count": 176,
     "metadata": {},
     "output_type": "execute_result"
    }
   ],
   "source": [
    "user_df.is_lead.value_counts(normalize=True)"
   ]
  },
  {
   "cell_type": "markdown",
   "metadata": {},
   "source": [
    "~19% average conversion"
   ]
  },
  {
   "cell_type": "markdown",
   "metadata": {},
   "source": [
    "Let's analyze the path for not converting visitors"
   ]
  },
  {
   "cell_type": "code",
   "execution_count": 177,
   "metadata": {},
   "outputs": [
    {
     "data": {
      "text/plain": [
       "new-york-city-ny->drop_off                                        6055\n",
       "boston-ma->drop_off                                                723\n",
       "about-us->drop_off                                                 657\n",
       "new-york-city-ny->new-york-city-ny->drop_off                       646\n",
       "washington-dc->drop_off                                            534\n",
       "sign-in->drop_off                                                  298\n",
       "how-it-works->drop_off                                             291\n",
       "careers->drop_off                                                  257\n",
       "los-angeles-ca->drop_off                                           251\n",
       "philadelphia->drop_off                                             249\n",
       "faq->drop_off                                                      244\n",
       "for-owners->drop_off                                               210\n",
       "san-francisco-ca->drop_off                                         192\n",
       "more->drop_off                                                     153\n",
       "->drop_off                                                         146\n",
       "531-prospect-park-south->new-york-city-ny->drop_off                145\n",
       "find-my-home->new-york-city-ny->drop_off                           139\n",
       "new-york-city-ny->new-york-city-ny->new-york-city-ny->drop_off     138\n",
       "new-york-city-ny->find-my-home->drop_off                           137\n",
       "591-northern-liberties->philadelphia->drop_off                     116\n",
       "Name: path, dtype: int64"
      ]
     },
     "execution_count": 177,
     "metadata": {},
     "output_type": "execute_result"
    }
   ],
   "source": [
    "user_df[user_df['is_lead'] == False]['path'].value_counts().head(20)"
   ]
  },
  {
   "cell_type": "markdown",
   "metadata": {},
   "source": [
    "Path `sign-in->drop_off` seem to be strange, we need to investigate why people started sign-in/up but left"
   ]
  },
  {
   "cell_type": "code",
   "execution_count": 178,
   "metadata": {},
   "outputs": [
    {
     "data": {
      "text/plain": [
       "journey                                   1414\n",
       "sign-in->journey                           304\n",
       "sign-up->journey                           204\n",
       "journey->sign-in                           165\n",
       "additional->journey                        142\n",
       "new-york-city-ny->journey                  127\n",
       "book-a-tour->journey                        95\n",
       "journey->additional                         86\n",
       "new-york-city-ny->sign-up->journey          71\n",
       "journey->sign-up                            69\n",
       "journey->new-york-city-ny                   60\n",
       "sign-in->sign-up->journey                   43\n",
       "new-york-city-ny->book-a-tour->journey      42\n",
       "sign-up->sign-in->journey                   39\n",
       "new-york-city-ny->journey->sign-up          34\n",
       "new-york-city-ny->sign-in->journey          27\n",
       "sign-in->new-york-city-ny->journey          27\n",
       "more->sign-in->journey                      25\n",
       "reset-password->journey                     24\n",
       "new-york-city-ny->journey->sign-in          23\n",
       "Name: path, dtype: int64"
      ]
     },
     "execution_count": 178,
     "metadata": {},
     "output_type": "execute_result"
    }
   ],
   "source": [
    "user_df[user_df['is_lead'] == True]['path'].value_counts().head(20)"
   ]
  },
  {
   "cell_type": "markdown",
   "metadata": {},
   "source": [
    "That's very suspicious that we have a huge number of leads who visited only the journey page. Maybe it's old visitors, who registered before we started to collect clickstream. Let's get rid of them"
   ]
  },
  {
   "cell_type": "code",
   "execution_count": 182,
   "metadata": {},
   "outputs": [],
   "source": [
    "user_df = user_df[~(user_df.path == 'journey')]"
   ]
  },
  {
   "cell_type": "code",
   "execution_count": 185,
   "metadata": {},
   "outputs": [
    {
     "data": {
      "text/plain": [
       "sign-in->journey             304\n",
       "sign-up->journey             204\n",
       "journey->sign-in             165\n",
       "additional->journey          142\n",
       "new-york-city-ny->journey    127\n",
       "Name: path, dtype: int64"
      ]
     },
     "execution_count": 185,
     "metadata": {},
     "output_type": "execute_result"
    }
   ],
   "source": [
    "user_df[user_df['is_lead'] == True]['path'].value_counts().head(5)"
   ]
  },
  {
   "cell_type": "code",
   "execution_count": 186,
   "metadata": {},
   "outputs": [
    {
     "data": {
      "text/plain": [
       "False    0.832622\n",
       "True     0.167378\n",
       "Name: is_lead, dtype: float64"
      ]
     },
     "execution_count": 186,
     "metadata": {},
     "output_type": "execute_result"
    }
   ],
   "source": [
    "user_df.is_lead.value_counts(normalize=True)"
   ]
  },
  {
   "cell_type": "markdown",
   "metadata": {},
   "source": [
    "Conversion worsen a little"
   ]
  },
  {
   "cell_type": "code",
   "execution_count": 191,
   "metadata": {},
   "outputs": [
    {
     "data": {
      "text/plain": [
       "False    43512\n",
       "True      8747\n",
       "Name: is_lead, dtype: int64"
      ]
     },
     "execution_count": 191,
     "metadata": {},
     "output_type": "execute_result"
    }
   ],
   "source": [
    "user_df.is_lead.value_counts()"
   ]
  },
  {
   "cell_type": "code",
   "execution_count": 192,
   "metadata": {},
   "outputs": [
    {
     "data": {
      "text/plain": [
       "city->drop_off                8004\n",
       "home->drop_off                2110\n",
       "home->city->drop_off          1614\n",
       "city->home->drop_off          1123\n",
       "city->city->drop_off          1043\n",
       "about-us->drop_off             657\n",
       "city->home->city->drop_off     411\n",
       "room->drop_off                 391\n",
       "neighborhood->drop_off         381\n",
       "room->home->drop_off           371\n",
       "Name: pages_path, dtype: int64"
      ]
     },
     "execution_count": 192,
     "metadata": {},
     "output_type": "execute_result"
    }
   ],
   "source": [
    "user_df[user_df['is_lead'] == False]['pages_path'].value_counts().head(10)"
   ]
  },
  {
   "cell_type": "code",
   "execution_count": 193,
   "metadata": {},
   "outputs": [
    {
     "data": {
      "text/plain": [
       "sign-in->journey          304\n",
       "sign-up->journey          204\n",
       "journey->sign-in          165\n",
       "city->journey             149\n",
       "additional->journey       142\n",
       "book-a-tour->journey       95\n",
       "city->sign-up->journey     87\n",
       "journey->additional        86\n",
       "journey->city              77\n",
       "journey->sign-up           69\n",
       "Name: pages_path, dtype: int64"
      ]
     },
     "execution_count": 193,
     "metadata": {},
     "output_type": "execute_result"
    }
   ],
   "source": [
    "user_df[user_df['is_lead'] == True]['pages_path'].value_counts().head(10)"
   ]
  },
  {
   "cell_type": "code",
   "execution_count": 194,
   "metadata": {},
   "outputs": [
    {
     "data": {
      "text/plain": [
       "sign-in->journey          0.034755\n",
       "sign-up->journey          0.023322\n",
       "journey->sign-in          0.018864\n",
       "city->journey             0.017034\n",
       "additional->journey       0.016234\n",
       "book-a-tour->journey      0.010861\n",
       "city->sign-up->journey    0.009946\n",
       "journey->additional       0.009832\n",
       "journey->city             0.008803\n",
       "journey->sign-up          0.007888\n",
       "Name: pages_path, dtype: float64"
      ]
     },
     "execution_count": 194,
     "metadata": {},
     "output_type": "execute_result"
    }
   ],
   "source": [
    "user_df[user_df['is_lead'] == True]['pages_path'].value_counts(normalize=True).head(10)"
   ]
  },
  {
   "cell_type": "markdown",
   "metadata": {},
   "source": [
    "Top 10 paths have less than 15% of total leads, it means tail is very long an it should be analyzed differently"
   ]
  },
  {
   "cell_type": "code",
   "execution_count": 220,
   "metadata": {},
   "outputs": [
    {
     "data": {
      "text/plain": [
       "profile->journey                      0.001258\n",
       "journey->sign-in->more                0.001258\n",
       "city->additional->journey             0.001258\n",
       "city->journey->book-a-tour            0.001143\n",
       "home->city->journey                   0.001143\n",
       "journey->more                         0.001143\n",
       "sign-up->journey->sign-in             0.001143\n",
       "journey->sign-in->sign-up             0.001029\n",
       "city->sign-in->sign-up->journey       0.001029\n",
       "city->room->journey->book-a-tour      0.001029\n",
       "city->sign-up->journey->additional    0.001029\n",
       "city->home->journey                   0.001029\n",
       "journey->city->additional             0.001029\n",
       "sign-in->additional->journey          0.001029\n",
       "journey->home                         0.000915\n",
       "room->home->journey                   0.000915\n",
       "journey->more->sign-in                0.000915\n",
       "city->room->journey->sign-up          0.000915\n",
       "city->sign-up->home->journey          0.000915\n",
       "room->journey->book-a-tour            0.000915\n",
       "Name: pages_path, dtype: float64"
      ]
     },
     "execution_count": 220,
     "metadata": {},
     "output_type": "execute_result"
    }
   ],
   "source": [
    "user_df[user_df['is_lead'] == True]['pages_path'].value_counts(normalize=True)[50:70]"
   ]
  },
  {
   "cell_type": "markdown",
   "metadata": {},
   "source": [
    "lets estimate conversion based on home/room visit"
   ]
  },
  {
   "cell_type": "code",
   "execution_count": 221,
   "metadata": {},
   "outputs": [],
   "source": [
    "user_df['seen_room'] = user_df.pages_path.str.contains('room')\n",
    "user_df['seen_home'] = user_df.pages_path.str.contains('home')"
   ]
  },
  {
   "cell_type": "code",
   "execution_count": 222,
   "metadata": {},
   "outputs": [
    {
     "data": {
      "text/plain": [
       "seen_home  is_lead\n",
       "False      False      0.830905\n",
       "           True       0.169095\n",
       "True       False      0.833950\n",
       "           True       0.166050\n",
       "Name: is_lead, dtype: float64"
      ]
     },
     "execution_count": 222,
     "metadata": {},
     "output_type": "execute_result"
    }
   ],
   "source": [
    "user_df.groupby(['seen_home']).is_lead.value_counts(normalize=True)"
   ]
  },
  {
   "cell_type": "code",
   "execution_count": 223,
   "metadata": {},
   "outputs": [
    {
     "data": {
      "text/plain": [
       "seen_room  is_lead\n",
       "False      False      0.856893\n",
       "           True       0.143107\n",
       "True       False      0.758010\n",
       "           True       0.241990\n",
       "Name: is_lead, dtype: float64"
      ]
     },
     "execution_count": 223,
     "metadata": {},
     "output_type": "execute_result"
    }
   ],
   "source": [
    "user_df.groupby(['seen_room']).is_lead.value_counts(normalize=True)"
   ]
  },
  {
   "cell_type": "markdown",
   "metadata": {},
   "source": [
    "Visitors how got down to the room level convert much better.\n"
   ]
  },
  {
   "cell_type": "markdown",
   "metadata": {},
   "source": [
    "### The overall analysis of the page path gives us very little insight. We need to go down to particular user clicks and filters"
   ]
  },
  {
   "cell_type": "code",
   "execution_count": null,
   "metadata": {},
   "outputs": [],
   "source": []
  }
 ],
 "metadata": {
  "kernelspec": {
   "display_name": "Python 3",
   "language": "python",
   "name": "python3"
  },
  "language_info": {
   "codemirror_mode": {
    "name": "ipython",
    "version": 3
   },
   "file_extension": ".py",
   "mimetype": "text/x-python",
   "name": "python",
   "nbconvert_exporter": "python",
   "pygments_lexer": "ipython3",
   "version": "3.7.6"
  }
 },
 "nbformat": 4,
 "nbformat_minor": 4
}
